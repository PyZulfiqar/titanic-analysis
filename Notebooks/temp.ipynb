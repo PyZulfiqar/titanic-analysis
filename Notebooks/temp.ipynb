{
 "cells": [
  {
   "cell_type": "markdown",
   "id": "17814718-da56-4eb7-bb55-e456bf2097b2",
   "metadata": {},
   "source": [
    "## Survival and cabin Allocation\n",
    "![Clasess](../Images/Cabins2.png)\n",
    "\n",
    "According to [encyclopedia-titanica.org](https://www.encyclopedia-titanica.org/cabins.html) allocation of cabins in titanic for passengers were:\n",
    "1. First Class:\n",
    "    - Boat Deck (T): 6 cabins, accommodation for 7 people, There is no evidence that anyone else occupied a Boat Deck cabin.\n",
    "    - A Deck: 36 cabins, accommodation for 48 people.\n",
    "    - B Deck: 101 numbered cabins, 2 of which are sitting rooms. Therefore it has 99 bedrooms with accomodation for 183 passengers.\n",
    "    - C Deck: Has 137 numbered cabins, 2 of which are sitting rooms. Therefore 135 cabins are able to accommodate 315 passengers.\n",
    "    - D Deck: Has a total of 49 cabins, being able to accommodate 119 passengers.\n",
    "    - E Deck: Has a total of 71 cabins, being able to accommodate 184 passengers.\n",
    "2. Second Class:\n",
    "    - D Deck: Personal account\n",
    "    - E Deck\n",
    "    - F Deck\n",
    "3. Third Class:\n",
    "    - D Deck\n",
    "    - E Deck\n",
    "    - F Deck\n",
    "    - G Deck"
   ]
  },
  {
   "cell_type": "code",
   "execution_count": null,
   "id": "fc4c43a7-c6ca-431f-a880-4a2f9b742f47",
   "metadata": {},
   "outputs": [],
   "source": [
    "df['Cabin'].unique()"
   ]
  },
  {
   "cell_type": "code",
   "execution_count": null,
   "id": "7f45ccbc-b6ff-43fb-9f0b-348eba874014",
   "metadata": {},
   "outputs": [],
   "source": [
    "df['Cabin'].isna().sum()"
   ]
  }
 ],
 "metadata": {
  "kernelspec": {
   "display_name": "Python 3 (ipykernel)",
   "language": "python",
   "name": "python3"
  },
  "language_info": {
   "codemirror_mode": {
    "name": "ipython",
    "version": 3
   },
   "file_extension": ".py",
   "mimetype": "text/x-python",
   "name": "python",
   "nbconvert_exporter": "python",
   "pygments_lexer": "ipython3",
   "version": "3.12.3"
  }
 },
 "nbformat": 4,
 "nbformat_minor": 5
}
